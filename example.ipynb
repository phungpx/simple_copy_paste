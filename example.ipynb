{
 "cells": [
  {
   "cell_type": "code",
   "execution_count": 1,
   "id": "c8d42089-6af9-487e-9dc2-c614b47d269b",
   "metadata": {},
   "outputs": [],
   "source": [
    "import cv2\n",
    "import json\n",
    "import random\n",
    "import imgaug.augmenters as iaa\n",
    "from pathlib import Path"
   ]
  },
  {
   "cell_type": "code",
   "execution_count": 2,
   "id": "cec3e99d-19aa-40c1-bec3-61ec5aa3fe89",
   "metadata": {},
   "outputs": [],
   "source": [
    "from simple_copy_paste import SimpleCopyPaste\n",
    "copy_paste = SimpleCopyPaste(\n",
    "    background_dir='./sample/back_ground/',\n",
    "    template_ratio=random.uniform(0.4, 0.8),\n",
    "    template_type='CARD_BACK',\n",
    "    image_pattern='*.*',\n",
    "    template_transforms=[\n",
    "        iaa.Affine(rotate=(-20, 20), shear=(-15, 15), fit_output=True),\n",
    "        iaa.Rot90(k=[1, 2, 3], keep_size=False),\n",
    "        iaa.PerspectiveTransform(scale=(0.01, 0.03), keep_size=False, fit_output=True),\n",
    "        iaa.ElasticTransformation(alpha=(0, 0.5), sigma=0.25)\n",
    "    ],\n",
    "    background_transforms=[\n",
    "        iaa.ElasticTransformation(alpha=(0.1, 0.5), sigma=0.25),\n",
    "        iaa.ChangeColorTemperature(kelvin=(4000, 9000)),\n",
    "    ],\n",
    "    final_transforms=[\n",
    "        iaa.ElasticTransformation(alpha=(0.1, 0.5), sigma=0.25),\n",
    "        iaa.ChangeColorTemperature(kelvin=(4000, 9000)),\n",
    "    ]\n",
    ")"
   ]
  },
  {
   "cell_type": "code",
   "execution_count": 3,
   "id": "fb5225c3-f78c-45e2-bfaa-09b8593ac3c5",
   "metadata": {},
   "outputs": [],
   "source": [
    "label_paths = list(Path('./sample/fore_ground/COMMUNIST_PARTY/CARD_BACK/').glob('**/*.json'))\n",
    "\n",
    "output_dir = Path('./sample/copy_paste/')\n",
    "if not output_dir.exists():\n",
    "    output_dir.mkdir(parents=True)"
   ]
  },
  {
   "cell_type": "code",
   "execution_count": 5,
   "id": "80b74c25-a0af-4368-b6e8-676bd8f245bc",
   "metadata": {},
   "outputs": [],
   "source": [
    "for i in range(5):\n",
    "    for label_path in label_paths:\n",
    "        idx = random.randint(1, 1000)\n",
    "\n",
    "        with label_path.open(mode='r', encoding='utf-8') as f:\n",
    "            label = json.load(f)\n",
    "\n",
    "        image_name = Path(label['imagePath']).name\n",
    "        image = cv2.imread(str(label_path.with_name(image_name)))\n",
    "\n",
    "        image, label = copy_paste(image, label)\n",
    "        \n",
    "        image_path = output_dir.joinpath(f'{label_path.stem}_{idx}{Path(image_name).suffix}')\n",
    "        json_path = output_dir.joinpath(f'{label_path.stem}_{idx}.json')\n",
    "        \n",
    "        label['imagePath'] = image_path.name\n",
    "        with json_path.open(mode='w', encoding='utf-8') as f:\n",
    "            json.dump(label, f, indent=4, ensure_ascii=False)\n",
    "\n",
    "        cv2.imwrite(str(image_path), image)"
   ]
  },
  {
   "cell_type": "code",
   "execution_count": null,
   "id": "b7026d0d-e87b-4b84-bdd6-26b0604799e0",
   "metadata": {},
   "outputs": [],
   "source": []
  }
 ],
 "metadata": {
  "kernelspec": {
   "display_name": "Python 3",
   "language": "python",
   "name": "python3"
  },
  "language_info": {
   "codemirror_mode": {
    "name": "ipython",
    "version": 3
   },
   "file_extension": ".py",
   "mimetype": "text/x-python",
   "name": "python",
   "nbconvert_exporter": "python",
   "pygments_lexer": "ipython3",
   "version": "3.7.9"
  }
 },
 "nbformat": 4,
 "nbformat_minor": 5
}
