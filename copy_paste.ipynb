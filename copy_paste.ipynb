{
 "cells": [
  {
   "cell_type": "code",
   "execution_count": 1,
   "id": "333764c8-f8ab-4bfa-8a41-44f91e63f98a",
   "metadata": {},
   "outputs": [],
   "source": [
    "def get_points(json_info):\n",
    "    points = []\n",
    "\n",
    "    if isinstance(json_info, dict):\n",
    "        for key, value in json_info.items():\n",
    "            if key == 'points':\n",
    "                points += value\n",
    "            else:\n",
    "                points += get_points(value)\n",
    "\n",
    "    elif isinstance(json_info, list):\n",
    "        for element in json_info:\n",
    "            points += get_points(element)\n",
    "\n",
    "    return points\n",
    "\n",
    "\n",
    "def set_points(json_info, points):\n",
    "    if isinstance(json_info, dict):\n",
    "        for key, value in json_info.items():\n",
    "            if key == 'points':\n",
    "                for i in range(len(value)):\n",
    "                    value[i] = points.pop(0)\n",
    "            else:\n",
    "                set_points(value, points)\n",
    "\n",
    "    elif isinstance(json_info, list):\n",
    "        for element in json_info:\n",
    "            set_points(element, points)\n",
    "\n",
    "\n",
    "def resize(image, min_size, max_size, resize_if_smaller=False):\n",
    "    h, w = image.shape[:2]\n",
    "    min_ratio = min(h, w) / min_size\n",
    "    max_ratio = max(h, w) / max_size\n",
    "    ratio = max(min_ratio, max_ratio)\n",
    "    if resize_if_smaller or ratio > 1:\n",
    "        image = cv2.resize(image, (0, 0), fx=1 / ratio, fy=1 / ratio)\n",
    "\n",
    "    return image"
   ]
  },
  {
   "cell_type": "code",
   "execution_count": 2,
   "id": "d073f2a3-5c0a-4dbf-b1f6-696020b58ed4",
   "metadata": {},
   "outputs": [],
   "source": [
    "def draw_label(image, json_info):\n",
    "    color = (0, 255, 0)\n",
    "    thickness = max(image.shape) // 400\n",
    "\n",
    "    for shape in json_info['shapes']:\n",
    "        shape_type = shape['shape_type']\n",
    "        points = np.int32(shape['points'])\n",
    "        if shape_type == 'polygon':\n",
    "            cv2.polylines(\n",
    "                img=image,\n",
    "                pts=[points],\n",
    "                isClosed=True,\n",
    "                color=color,\n",
    "                thickness=thickness,\n",
    "            )\n",
    "        elif shape_type == 'rectangle':\n",
    "            cv2.rectangle(\n",
    "                img=image,\n",
    "                pt1=tuple(points[:2]),\n",
    "                pt2=tuple(points[2:]),\n",
    "                color=color,\n",
    "                thickness=thickness\n",
    "            )\n",
    "        elif shape_type == 'line':\n",
    "            cv2.line(\n",
    "                img=image,\n",
    "                pt1=tuple(points[:2]),\n",
    "                pt2=tuple(points[2:]),\n",
    "                color=color,\n",
    "                thickness=thickness\n",
    "            )\n",
    "\n",
    "    return image"
   ]
  },
  {
   "cell_type": "code",
   "execution_count": 85,
   "id": "24ad0b03-6f92-48be-9993-ac9935e6018c",
   "metadata": {},
   "outputs": [],
   "source": [
    "import cv2\n",
    "import json\n",
    "import random\n",
    "import numpy as np\n",
    "import imgaug.augmenters as iaa\n",
    "\n",
    "from pathlib import Path\n",
    "from imgaug.augmentables import Keypoint\n",
    "from imgaug.augmentables import KeypointsOnImage\n",
    "from imgaug.augmentables.segmaps import SegmentationMapsOnImage"
   ]
  },
  {
   "cell_type": "code",
   "execution_count": 86,
   "id": "c8bc67fe-7730-4554-93bd-b4221a6a7ea4",
   "metadata": {},
   "outputs": [],
   "source": [
    "bg_images = list(Path('./sample/back_ground/').glob('**/*'))\n",
    "json_paths = list(Path('./sample/fore_ground/COMMUNIST_PARTY/CARD_BACK/').glob('**/*.json'))"
   ]
  },
  {
   "cell_type": "code",
   "execution_count": 95,
   "id": "8ec83654-3393-4a5e-a978-95b112e0b660",
   "metadata": {},
   "outputs": [],
   "source": [
    "transforms = [\n",
    "    iaa.Affine(rotate=(-20, 20), shear=(-15, 0), fit_output=True),\n",
    "#     iaa.Rot90(k=2, keep_size=False),\n",
    "#     iaa.TranslateX(percent=0.1),\n",
    "#     iaa.Flipud(p=1),\n",
    "#     iaa.PiecewiseAffine(scale=(0.05, 0.01)),\n",
    "    iaa.PerspectiveTransform(scale=(0.01, 0.05), keep_size=False, fit_output=True),\n",
    "    iaa.ElasticTransformation(alpha=(0, 1.0), sigma=0.25)\n",
    "]\n",
    "\n",
    "fg_ratio = random.uniform(0.3, 0.7)"
   ]
  },
  {
   "cell_type": "code",
   "execution_count": 96,
   "id": "79dfd48f-15dd-4496-8257-a9e63d7154ec",
   "metadata": {},
   "outputs": [],
   "source": [
    "# Choose json file and background image randomly\n",
    "bg_image = cv2.imread(str(bg_images[0]))\n",
    "json_path = json_paths[1]"
   ]
  },
  {
   "cell_type": "code",
   "execution_count": 100,
   "id": "13e7a561-7115-4685-96d3-342cd8035362",
   "metadata": {},
   "outputs": [
    {
     "name": "stdout",
     "output_type": "stream",
     "text": [
      "<class 'dict'>\n",
      "<class 'imgaug.augmentables.kps.KeypointsOnImage'>\n",
      "<class 'imgaug.augmentables.segmaps.SegmentationMapsOnImage'>\n"
     ]
    }
   ],
   "source": [
    "with json_path.open(mode='r', encoding='utf-8') as f:\n",
    "    json_info = json.load(f)\n",
    "    \n",
    "print(type(json_info))\n",
    "\n",
    "fg_path = str(json_path.with_name(Path(json_info['imagePath']).name))\n",
    "fg_image = cv2.imread(fg_path)\n",
    "\n",
    "# Get Force Ground Points from Json Info\n",
    "points = get_points(json_info)\n",
    "keypoints = [Keypoint(x=point[0], y=point[1]) for point in points]\n",
    "keypoints = KeypointsOnImage(keypoints=keypoints, shape=fg_image.shape)\n",
    "\n",
    "# Get Force Ground Mask\n",
    "fg_mask = np.ones_like(fg_image)\n",
    "fg_mask = SegmentationMapsOnImage(fg_mask, fg_image.shape)\n",
    "\n",
    "print(type(keypoints))\n",
    "print(type(fg_mask))\n",
    "\n",
    "# Augment Force Ground Image, Mask, Points\n",
    "for trans in transforms:\n",
    "    aug = trans.to_deterministic()\n",
    "    fg_image = aug(image=fg_image)\n",
    "    keypoints = aug(keypoints=keypoints)\n",
    "    fg_mask = aug(segmentation_maps=fg_mask)\n",
    "    if isinstance(trans, iaa.PerspectiveTransform):\n",
    "        trans.keep_size=True\n",
    "        trans.fit_output=False\n",
    "        bg_image = aug(image=bg_image)\n",
    "\n",
    "# Set ratio between Force Ground and Back Ground\n",
    "fg_height, fg_width = fg_image.shape[:2]\n",
    "bg_height, bg_width = bg_image.shape[:2]\n",
    "\n",
    "if max(fg_height, fg_width) > min(bg_height, bg_width) * fg_ratio:\n",
    "    if fg_height >= fg_width:\n",
    "        fg_height_new = min(bg_height, bg_width) * fg_ratio\n",
    "        fg_width_new =  fg_height_new * fg_width / fg_height\n",
    "    else:\n",
    "        fg_width_new = min(bg_height, bg_width) * fg_ratio\n",
    "        fg_height_new =  fg_width_new * fg_height / fg_width\n",
    "    # Resize\n",
    "    resize_to_size = iaa.Resize({\"height\": int(fg_height_new), \"width\": int(fg_width_new)})\n",
    "    fg_image = resize_to_size(image=fg_image)\n",
    "    keypoints = resize_to_size(keypoints=keypoints)\n",
    "    fg_mask = resize_to_size(segmentation_maps=fg_mask)\n",
    "else:\n",
    "    bg_width_new, bg_height_new = int(fg_width / fg_ratio), int(fg_height / fg_ratio)\n",
    "    bg_image = iaa.CropToFixedSize(bg_width_new, bg_height_new)(image=bg_image)\n",
    "\n",
    "# Pad Force Ground Image, Mask, Points To Fixed Size with Back Ground\n",
    "pad_to_size = iaa.PadToFixedSize(width=bg_image.shape[1], height=bg_image.shape[0])\n",
    "pad_to_size = pad_to_size.to_deterministic()\n",
    "fg_image = pad_to_size(image=fg_image)\n",
    "keypoints = pad_to_size(keypoints=keypoints)\n",
    "fg_mask = pad_to_size(segmentation_maps=fg_mask)\n",
    "\n",
    "# Set All Points to Json Info\n",
    "points = [[float(keypoint.x), float(keypoint.y)] for keypoint in keypoints.keypoints]\n",
    "set_points(json_info, points)\n",
    "\n",
    "# Blend Fore Ground Mask\n",
    "fg_mask = fg_mask.get_arr().astype(np.float32)\n",
    "ksize = max(max(fg_image.shape) // 400 * 2 + 1, 5)\n",
    "fg_mask = cv2.GaussianBlur(fg_mask, ksize=(ksize, ksize), sigmaX=ksize)\n",
    "\n",
    "# Combinate Force Ground and Back Ground with Mask\n",
    "image = fg_image * fg_mask + bg_image * (1. - fg_mask)\n",
    "image = image.astype(np.uint8)\n",
    "\n",
    "image = iaa.ChangeColorTemperature(kelvin=11000)(image=image)"
   ]
  },
  {
   "cell_type": "code",
   "execution_count": 98,
   "id": "b3f228e9-4583-4787-a342-0dd05ccfa0d4",
   "metadata": {},
   "outputs": [
    {
     "data": {
      "text/plain": [
       "True"
      ]
     },
     "execution_count": 98,
     "metadata": {},
     "output_type": "execute_result"
    }
   ],
   "source": [
    "with Path(Path(json_info['imagePath']).stem + '.json').open(mode='w', encoding='utf-8') as f:\n",
    "    json.dump(json_info, f, indent=4, ensure_ascii=False)\n",
    "\n",
    "cv2.imwrite(Path(json_info['imagePath']).name, image)\n",
    "\n",
    "# cv2.imshow('a', image)\n",
    "# cv2.waitKey()\n",
    "# cv2.destroyAllWindows()"
   ]
  },
  {
   "cell_type": "code",
   "execution_count": null,
   "id": "04e0bd1e-2724-47ca-a245-f5ba458ad617",
   "metadata": {},
   "outputs": [],
   "source": []
  },
  {
   "cell_type": "code",
   "execution_count": null,
   "id": "451d8e76-86db-43d7-9f4d-c99edada7baf",
   "metadata": {},
   "outputs": [],
   "source": []
  }
 ],
 "metadata": {
  "kernelspec": {
   "display_name": "Python 3",
   "language": "python",
   "name": "python3"
  },
  "language_info": {
   "codemirror_mode": {
    "name": "ipython",
    "version": 3
   },
   "file_extension": ".py",
   "mimetype": "text/x-python",
   "name": "python",
   "nbconvert_exporter": "python",
   "pygments_lexer": "ipython3",
   "version": "3.7.9"
  }
 },
 "nbformat": 4,
 "nbformat_minor": 5
}
